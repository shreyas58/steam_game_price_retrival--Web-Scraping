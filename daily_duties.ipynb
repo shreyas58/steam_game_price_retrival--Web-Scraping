{
 "cells": [
  {
   "cell_type": "markdown",
   "metadata": {},
   "source": [
    "### Importing necessary libraries"
   ]
  },
  {
   "cell_type": "code",
   "execution_count": 1,
   "metadata": {},
   "outputs": [],
   "source": [
    "import bs4\n",
    "import pandas as pd\n",
    "from datetime import datetime\n",
    "import re\n",
    "from selenium import webdriver\n",
    "from selenium.webdriver.common.keys import Keys\n",
    "import time\n",
    "\n",
    "from urllib.request import urlopen as uReq\n",
    "from bs4 import BeautifulSoup as soup"
   ]
  },
  {
   "cell_type": "markdown",
   "metadata": {},
   "source": [
    "### Mention path for chrome drivers (ensure you have the appropriate driver version)\n",
    "\n",
    "###### download from - https://sites.google.com/a/chromium.org/chromedriver/downloads\n",
    "\n",
    "mention correct PATH"
   ]
  },
  {
   "cell_type": "code",
   "execution_count": 2,
   "metadata": {},
   "outputs": [],
   "source": [
    "PATH = \"C:\\Program Files (x86)\\chromedriver.exe\""
   ]
  },
  {
   "cell_type": "code",
   "execution_count": 3,
   "metadata": {},
   "outputs": [
    {
     "data": {
      "text/html": [
       "<div>\n",
       "<style scoped>\n",
       "    .dataframe tbody tr th:only-of-type {\n",
       "        vertical-align: middle;\n",
       "    }\n",
       "\n",
       "    .dataframe tbody tr th {\n",
       "        vertical-align: top;\n",
       "    }\n",
       "\n",
       "    .dataframe thead th {\n",
       "        text-align: right;\n",
       "    }\n",
       "</style>\n",
       "<table border=\"1\" class=\"dataframe\">\n",
       "  <thead>\n",
       "    <tr style=\"text-align: right;\">\n",
       "      <th></th>\n",
       "      <th>Game_Name</th>\n",
       "    </tr>\n",
       "  </thead>\n",
       "  <tbody>\n",
       "    <tr>\n",
       "      <th>0</th>\n",
       "      <td>NieR Replicant™ ver.1.22474487139...</td>\n",
       "    </tr>\n",
       "    <tr>\n",
       "      <th>1</th>\n",
       "      <td>Valheim</td>\n",
       "    </tr>\n",
       "    <tr>\n",
       "      <th>2</th>\n",
       "      <td>It Takes Two</td>\n",
       "    </tr>\n",
       "    <tr>\n",
       "      <th>3</th>\n",
       "      <td>DEATH STRANDING</td>\n",
       "    </tr>\n",
       "    <tr>\n",
       "      <th>4</th>\n",
       "      <td>Titanfall® 2</td>\n",
       "    </tr>\n",
       "  </tbody>\n",
       "</table>\n",
       "</div>"
      ],
      "text/plain": [
       "                              Game_Name\n",
       "0  NieR Replicant™ ver.1.22474487139...\n",
       "1                               Valheim\n",
       "2                          It Takes Two\n",
       "3                       DEATH STRANDING\n",
       "4                          Titanfall® 2"
      ]
     },
     "execution_count": 3,
     "metadata": {},
     "output_type": "execute_result"
    }
   ],
   "source": [
    "# reading the csv\n",
    "game_prices = pd.read_csv('gamePrices.csv')\n",
    "game_prices.head()"
   ]
  },
  {
   "cell_type": "code",
   "execution_count": 4,
   "metadata": {},
   "outputs": [
    {
     "data": {
      "text/plain": [
       "list"
      ]
     },
     "execution_count": 4,
     "metadata": {},
     "output_type": "execute_result"
    }
   ],
   "source": [
    "# list of games to search\n",
    "listOfGames = list(game_prices['Game_Name'])\n",
    "type(listOfGames)"
   ]
  },
  {
   "cell_type": "code",
   "execution_count": 5,
   "metadata": {},
   "outputs": [
    {
     "data": {
      "text/plain": [
       "'2021-04-25'"
      ]
     },
     "execution_count": 5,
     "metadata": {},
     "output_type": "execute_result"
    }
   ],
   "source": [
    "# getting today's date\n",
    "todays_date = str(datetime.now())\n",
    "todays_date = todays_date[:10]\n",
    "todays_date"
   ]
  },
  {
   "cell_type": "code",
   "execution_count": 6,
   "metadata": {},
   "outputs": [],
   "source": [
    "# filling values for today's column with '' (nothing)\n",
    "game_prices[todays_date] = ''"
   ]
  },
  {
   "cell_type": "code",
   "execution_count": 7,
   "metadata": {},
   "outputs": [],
   "source": [
    "\n",
    "driver = webdriver.Chrome(PATH)\n",
    "driver.get(\"https://store.steampowered.com/search/?sort_by=_ASC&filter=topsellers\")\n",
    "\n",
    "for each in listOfGames:\n",
    "    # clearing search\n",
    "    search = driver.find_element_by_class_name(\"text\").clear()\n",
    "    # entering game to search\n",
    "    search = driver.find_element_by_class_name(\"text\")\n",
    "    search.send_keys(each)\n",
    "    # clicking enter key after typing in the necessary game name in the search bar\n",
    "    search.send_keys(Keys.ENTER)\n",
    "    # retriving url\n",
    "    my_url = driver.current_url\n",
    "    # web scraping URL using beautiful soup and extracting necessary information\n",
    "    uClient = uReq(my_url)\n",
    "    page_html = uClient.read()\n",
    "    uClient.close()\n",
    "    page_soup = soup(page_html, \"html.parser\")\n",
    "    game = str(page_soup.findAll(\"div\", {\"class\":\"responsive_search_name_combined\"}))\n",
    "    game_price = re.findall(r'A\\$ \\d+.\\d+', game)\n",
    "    game_price = game_price[-1]\n",
    "    game_prices.loc[game_prices['Game_Name'] == each, todays_date] = game_price\n",
    "    # going back\n",
    "    driver.back()\n",
    "    \n",
    "# closing web browser\n",
    "driver.quit()"
   ]
  },
  {
   "cell_type": "code",
   "execution_count": 8,
   "metadata": {},
   "outputs": [],
   "source": [
    "# updating the csv file\n",
    "game_prices.to_csv('gamePrices.csv', index = False)"
   ]
  }
 ],
 "metadata": {
  "kernelspec": {
   "display_name": "Python 3",
   "language": "python",
   "name": "python3"
  },
  "language_info": {
   "codemirror_mode": {
    "name": "ipython",
    "version": 3
   },
   "file_extension": ".py",
   "mimetype": "text/x-python",
   "name": "python",
   "nbconvert_exporter": "python",
   "pygments_lexer": "ipython3",
   "version": "3.8.5"
  }
 },
 "nbformat": 4,
 "nbformat_minor": 4
}
